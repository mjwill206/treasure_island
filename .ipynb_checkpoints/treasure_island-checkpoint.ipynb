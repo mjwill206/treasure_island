{
 "cells": [
  {
   "cell_type": "markdown",
   "metadata": {},
   "source": [
    "# Day 3.4: Treasure Island"
   ]
  },
  {
   "cell_type": "code",
   "execution_count": null,
   "metadata": {},
   "outputs": [],
   "source": [
    "print('''\n",
    "*******************************************************************************\n",
    "          |                   |                  |                     |\n",
    " _________|________________.=\"\"_;=.______________|_____________________|_______\n",
    "|                   |  ,-\"_,=\"\"     `\"=.|                  |\n",
    "|___________________|__\"=._o`\"-._        `\"=.______________|___________________\n",
    "          |                `\"=._o`\"=._      _`\"=._                     |\n",
    " _________|_____________________:=._o \"=._.\"_.-=\"'\"=.__________________|_______\n",
    "|                   |    __.--\" , ; `\"=._o.\" ,-\"\"\"-._ \".   |\n",
    "|___________________|_._\"  ,. .` ` `` ,  `\"-._\"-._   \". '__|___________________\n",
    "          |           |o`\"=._` , \"` `; .\". ,  \"-._\"-._; ;              |\n",
    " _________|___________| ;`-.o`\"=._; .\" ` '`.\"\\` . \"-._ /_______________|_______\n",
    "|                   | |o;    `\"-.o`\"=._``  '` \" ,__.--o;   |\n",
    "|___________________|_| ;     (#) `-.o `\"=.`_.--\"_o.-; ;___|___________________\n",
    "____/______/______/___|o;._    \"      `\".o|o_.--\"    ;o;____/______/______/____\n",
    "/______/______/______/_\"=._o--._        ; | ;        ; ;/______/______/______/_\n",
    "____/______/______/______/__\"=._o--._   ;o|o;     _._;o;____/______/______/____\n",
    "/______/______/______/______/____\"=._o._; | ;_.--\"o.--\"_/______/______/______/_\n",
    "____/______/______/______/______/_____\"=.o|o_.--\"\"___/______/______/______/____\n",
    "/______/______/______/______/______/______/______/______/______/______/_____ /\n",
    "*******************************************************************************\n",
    "''')\n",
    "print(\"Welcome to Treasure Island!\")\n",
    "print()\n",
    "print(\"Your mission is to find the treasure.\")\n",
    "print()\n",
    "print(\"You're at a cross road. Where do you want to go?\")\n",
    "action1 = input(\"Type \\\"left\\\" or \\\"right\\\".\\n\")\n",
    "print()\n",
    "\n",
    "if action1 == \"left\":\n",
    "    print(\"You come to a lake. There is an island in \"\n",
    "         \"the middle of the lake.\")\n",
    "    print()\n",
    "    print(\"Will you wait for a boat or swim across?\")\n",
    "    action2 = input(\"Type \\\"wait\\\" or \\\"swim\\\".\\n\")\n",
    "    print()\n",
    "    \n",
    "    if action2 == \"wait\":\n",
    "        print(\"You arrive at the island unharmed. There \"\n",
    "             \"is a house with three doors - one red, one \"\n",
    "             \"yellow, and one blue.\")\n",
    "        print()\n",
    "        print(\"Which door do you choose?\")\n",
    "        action3 = input(\"Type \\\"red\\\", \\\"yellow\\\" or \\\"blue\\\".\\n\")\n",
    "        print()\n",
    "        \n",
    "        if action3 == \"yellow\":\n",
    "            print(\"You open the door to find the treasure - congratulations!\")\n",
    "        elif action3 == \"red\":\n",
    "            print(\"The door leads to a pit and you fall \"\n",
    "                 \"to your death - game over!\")\n",
    "        else:\n",
    "            print(\"A man-eating giant tarantual waits \"\n",
    "                 \"behind the door, and you become it's \"\n",
    "                 \"next meal - game over!\")\n",
    "    else:\n",
    "        print(\"A mysterious tentacle grabs your leg and \"\n",
    "             \"drags you below the surface - game over!\")\n",
    "else:\n",
    "    print(\"You take a wrong step into quicksand and \"\n",
    "         \"are unable to free yourself - game over!\")\n",
    "    "
   ]
  },
  {
   "cell_type": "code",
   "execution_count": null,
   "metadata": {},
   "outputs": [],
   "source": []
  }
 ],
 "metadata": {
  "kernelspec": {
   "display_name": "Python 3",
   "language": "python",
   "name": "python3"
  },
  "language_info": {
   "codemirror_mode": {
    "name": "ipython",
    "version": 3
   },
   "file_extension": ".py",
   "mimetype": "text/x-python",
   "name": "python",
   "nbconvert_exporter": "python",
   "pygments_lexer": "ipython3",
   "version": "3.7.6"
  }
 },
 "nbformat": 4,
 "nbformat_minor": 4
}
