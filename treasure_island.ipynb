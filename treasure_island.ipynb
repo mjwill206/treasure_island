{
 "cells": [
  {
   "cell_type": "markdown",
   "metadata": {},
   "source": [
    "# Day 3.4: Treasure Island"
   ]
  },
  {
   "cell_type": "code",
   "execution_count": 2,
   "metadata": {},
   "outputs": [
    {
     "name": "stdout",
     "output_type": "stream",
     "text": [
      "Welcome to Treasure Island!\n",
      "\n",
      "Your mission is to find the treasure.\n",
      "\n",
      "You're at a cross road. Where do you want to go?\n"
     ]
    },
    {
     "name": "stdin",
     "output_type": "stream",
     "text": [
      "Type \"left\" or \"right\".\n",
      " left\n"
     ]
    },
    {
     "name": "stdout",
     "output_type": "stream",
     "text": [
      "\n",
      "You come to a lake. There is an island in the middle of the lake.\n",
      "\n",
      "Will you wait for a boat or swim across?\n"
     ]
    },
    {
     "name": "stdin",
     "output_type": "stream",
     "text": [
      "Type \"wait\" or \"swim\".\n",
      " wait\n"
     ]
    },
    {
     "name": "stdout",
     "output_type": "stream",
     "text": [
      "\n",
      "You arrive at the island unharmed. There is a house with three doors - one red, one yellow, and one blue.\n",
      "\n",
      "Which door do you choose?\n"
     ]
    },
    {
     "name": "stdin",
     "output_type": "stream",
     "text": [
      "Type \"red\", \"yellow\" or \"blue\".\n",
      " red\n"
     ]
    },
    {
     "name": "stdout",
     "output_type": "stream",
     "text": [
      "\n",
      "The door leads to a pit and you fall to your death - game over!\n"
     ]
    }
   ],
   "source": [
    "print(\"Welcome to Treasure Island!\")\n",
    "print()\n",
    "print(\"Your mission is to find the treasure.\")\n",
    "print()\n",
    "print(\"You're at a cross road. Where do you want to go?\")\n",
    "action1 = input(\"Type \\\"left\\\" or \\\"right\\\".\\n\")\n",
    "print()\n",
    "\n",
    "if action1 == \"left\":\n",
    "    print(\"You come to a lake. There is an island in \"\n",
    "         \"the middle of the lake.\")\n",
    "    print()\n",
    "    print(\"Will you wait for a boat or swim across?\")\n",
    "    action2 = input(\"Type \\\"wait\\\" or \\\"swim\\\".\\n\")\n",
    "    print()\n",
    "    \n",
    "    if action2 == \"wait\":\n",
    "        print(\"You arrive at the island unharmed. There \"\n",
    "             \"is a house with three doors - one red, one \"\n",
    "             \"yellow, and one blue.\")\n",
    "        print()\n",
    "        print(\"Which door do you choose?\")\n",
    "        action3 = input(\"Type \\\"red\\\", \\\"yellow\\\" or \\\"blue\\\".\\n\")\n",
    "        print()\n",
    "        \n",
    "        if action3 == \"yellow\":\n",
    "            print(\"You open the door to find the treasure - congratulations!\")\n",
    "        elif action3 == \"red\":\n",
    "            print(\"The door leads to a pit and you fall \"\n",
    "                 \"to your death - game over!\")\n",
    "        else:\n",
    "            print(\"A man-eating giant tarantual waits \"\n",
    "                 \"behind the door, and you become it's \"\n",
    "                 \"next meal - game over!\")\n",
    "    else:\n",
    "        print(\"A mysterious tentacle grabs your leg and \"\n",
    "             \"drags you below the surface - game over!\")\n",
    "else:\n",
    "    print(\"You take a wrong step into quicksand and \"\n",
    "         \"are unable to free yourself - game over!\")\n",
    "    "
   ]
  }
 ],
 "metadata": {
  "kernelspec": {
   "display_name": "Python 3",
   "language": "python",
   "name": "python3"
  },
  "language_info": {
   "codemirror_mode": {
    "name": "ipython",
    "version": 3
   },
   "file_extension": ".py",
   "mimetype": "text/x-python",
   "name": "python",
   "nbconvert_exporter": "python",
   "pygments_lexer": "ipython3",
   "version": "3.7.6"
  }
 },
 "nbformat": 4,
 "nbformat_minor": 4
}
